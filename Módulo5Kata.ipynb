{
 "cells": [
  {
   "cell_type": "markdown",
   "metadata": {},
   "source": [
    "# Ejercicio 1"
   ]
  },
  {
   "cell_type": "code",
   "execution_count": 18,
   "metadata": {},
   "outputs": [
    {
     "name": "stdout",
     "output_type": "stream",
     "text": [
      "Distance in Km: 628949330\n",
      "Distance in miles: 390577534\n"
     ]
    }
   ],
   "source": [
    "earth = 149597870\n",
    "jupiter = 778547200\n",
    "\n",
    "distance_km = abs(earth - jupiter)\n",
    "print(\"Distance in Km: \" + str(distance_km))\n",
    "\n",
    "distance_miles = round(distance_km * 0.621)\n",
    "print(\"Distance in miles: \" + str(distance_miles))"
   ]
  },
  {
   "cell_type": "markdown",
   "metadata": {},
   "source": [
    "# Ejercicio 2"
   ]
  },
  {
   "cell_type": "code",
   "execution_count": 22,
   "metadata": {},
   "outputs": [
    {
     "name": "stdout",
     "output_type": "stream",
     "text": [
      "Distance in Km: 50300000\n",
      "Distance in miles: 31236300\n"
     ]
    }
   ],
   "source": [
    "first_planet = input(\"Ingresa la distancia del primer planeta\")\n",
    "second_planet = input(\"Ingresa la distancia del segundo planeta\")\n",
    "first_planet = int(first_planet)\n",
    "second_planet = int(second_planet)\n",
    "\n",
    "distance_km = abs(first_planet - second_planet)\n",
    "print(\"Distance in Km: \" + str(distance_km))\n",
    "\n",
    "distance_miles = round(distance_km * 0.621)\n",
    "print(\"Distance in miles: \" + str(distance_miles))\n"
   ]
  }
 ],
 "metadata": {
  "interpreter": {
   "hash": "535e7dfa4e79b8a16ee5958c03c29abfca9eab7a4cbaa00a7baba8beca86875c"
  },
  "kernelspec": {
   "display_name": "Python 3.10.2 64-bit",
   "language": "python",
   "name": "python3"
  },
  "language_info": {
   "codemirror_mode": {
    "name": "ipython",
    "version": 3
   },
   "file_extension": ".py",
   "mimetype": "text/x-python",
   "name": "python",
   "nbconvert_exporter": "python",
   "pygments_lexer": "ipython3",
   "version": "3.10.2"
  },
  "orig_nbformat": 4
 },
 "nbformat": 4,
 "nbformat_minor": 2
}
