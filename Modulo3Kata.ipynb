{
 "cells": [
  {
   "cell_type": "markdown",
   "metadata": {},
   "source": [
    "# Ejercicio 1"
   ]
  },
  {
   "cell_type": "code",
   "execution_count": 14,
   "metadata": {},
   "outputs": [
    {
     "name": "stdout",
     "output_type": "stream",
     "text": [
      "DANGER! An asteroid is getting closer to earth\n"
     ]
    }
   ],
   "source": [
    "velocidad_asteroide = 49\n",
    "\n",
    "if velocidad_asteroide > 25 :\n",
    "    print(\"DANGER! An asteroid is getting closer to earth\")\n",
    "else:\n",
    "    print(\"Don´t worry, everything is fine\")\n"
   ]
  },
  {
   "cell_type": "markdown",
   "metadata": {},
   "source": [
    "# Ejercicio 2"
   ]
  },
  {
   "cell_type": "code",
   "execution_count": 18,
   "metadata": {},
   "outputs": [
    {
     "name": "stdout",
     "output_type": "stream",
     "text": [
      "Nothing to see here\n"
     ]
    }
   ],
   "source": [
    "velocidad_asteroide = 19\n",
    "\n",
    "if velocidad_asteroide > 20:\n",
    "    print(\"Look up! Probably an asteroid trespassed the atmosphere\")\n",
    "elif velocidad_asteroide == 20:\n",
    "    print(\"Look up! Probably an asteroid trespassed the atmosphere\")\n",
    "else:\n",
    "    print(\"Nothing to see here\")"
   ]
  },
  {
   "cell_type": "markdown",
   "metadata": {},
   "source": [
    "# Ejercicio 3"
   ]
  },
  {
   "cell_type": "code",
   "execution_count": 13,
   "metadata": {},
   "outputs": [
    {
     "name": "stdout",
     "output_type": "stream",
     "text": [
      "Don´t worry, everything is fine\n"
     ]
    }
   ],
   "source": [
    "velocidad_asteroide = 20\n",
    "tamaño_asteroide = 20\n",
    "\n",
    "if velocidad_asteroide > 25 and tamaño_asteroide > 25:\n",
    "    print (\"DANGER!! An asteroid is coming to earth!!\")\n",
    "elif velocidad_asteroide > 25: \n",
    "    print(\"DANGER! An asteroid is getting closer to earth\")\n",
    "elif velocidad_asteroide >= 25:\n",
    "    print(\"Look up! Probably an asteroid trespassed the atmosphere\")\n",
    "elif tamaño_asteroide < 25:\n",
    "    print(\"Don´t worry, everything is fine\")\n",
    "else:\n",
    "    print(\"Don´t worry, everything is fine\")"
   ]
  }
 ],
 "metadata": {
  "interpreter": {
   "hash": "535e7dfa4e79b8a16ee5958c03c29abfca9eab7a4cbaa00a7baba8beca86875c"
  },
  "kernelspec": {
   "display_name": "Python 3.10.2 64-bit",
   "language": "python",
   "name": "python3"
  },
  "language_info": {
   "codemirror_mode": {
    "name": "ipython",
    "version": 3
   },
   "file_extension": ".py",
   "mimetype": "text/x-python",
   "name": "python",
   "nbconvert_exporter": "python",
   "pygments_lexer": "ipython3",
   "version": "3.10.2"
  },
  "orig_nbformat": 4
 },
 "nbformat": 4,
 "nbformat_minor": 2
}
